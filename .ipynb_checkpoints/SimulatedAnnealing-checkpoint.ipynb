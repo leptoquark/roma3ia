{
 "cells": [
  {
   "cell_type": "markdown",
   "metadata": {},
   "source": [
    "# Import e costanti"
   ]
  },
  {
   "cell_type": "code",
   "execution_count": 13,
   "metadata": {
    "collapsed": true
   },
   "outputs": [],
   "source": [
    "import random\n",
    "import numpy\n",
    "import math\n",
    "\n",
    "TEMPERATURA_INIZIALE = 30\n",
    "TEMPERATURA_FINALE = 0.2\n",
    "ALFA = 0.99\n",
    "STEPS_PER_CHANGE = 100\n",
    "\n",
    "DIMENSIONE = 8"
   ]
  },
  {
   "cell_type": "markdown",
   "metadata": {},
   "source": [
    "# Tweak e inizializzazione"
   ]
  },
  {
   "cell_type": "code",
   "execution_count": 14,
   "metadata": {
    "collapsed": true
   },
   "outputs": [],
   "source": [
    "def tweak(sol):\n",
    "    sol_copy = numpy.copy(sol)\n",
    "    x = random.randint(0,DIMENSIONE-1)\n",
    "    y = random.randint(0,DIMENSIONE-1)\n",
    "    while x==y:\n",
    "        y = random.randint(0,DIMENSIONE-1)\n",
    "    temp = sol_copy[y]\n",
    "    sol_copy[y] = sol_copy[x] \n",
    "    sol_copy[x] = temp\n",
    "    return sol_copy\n",
    "\n",
    "def inizializza(sol):\n",
    "    for c in range(0,DIMENSIONE-1):\n",
    "        tweak(sol)\n",
    "    return tweak(sol)"
   ]
  },
  {
   "cell_type": "markdown",
   "metadata": {},
   "source": [
    "# Calcolo dell'energia (minacce)"
   ]
  },
  {
   "cell_type": "code",
   "execution_count": 15,
   "metadata": {
    "collapsed": true
   },
   "outputs": [],
   "source": [
    "def energia(matrix):\n",
    "    board  = [[0] * DIMENSIONE for i in range(DIMENSIONE)] \n",
    "    for i in range(0,DIMENSIONE):\n",
    "        board[i][matrix[i]]='Q'\n",
    "        \n",
    "    dx = [-1,1,-1,1]\n",
    "    dy = [-1,1,1,-1]\n",
    "    \n",
    "    conflitti = 0\n",
    "\n",
    "    for i in range(0,DIMENSIONE):\n",
    "        x=i\n",
    "        y=matrix[i]\n",
    "        for j in range(0,4):\n",
    "            tempx = x\n",
    "            tempy = y\n",
    "            while (True):\n",
    "                tempx = tempx + dx[j]\n",
    "                tempy = tempy + dy[j]\n",
    "                if ((tempx < 0) or \n",
    "                    (tempx >= DIMENSIONE) or\n",
    "                    (tempy < 0) or \n",
    "                    (tempy >= DIMENSIONE)):\n",
    "                    break\n",
    "                if (board[tempx][tempy]=='Q'):\n",
    "                    conflitti = conflitti+1\n",
    "    return conflitti"
   ]
  },
  {
   "cell_type": "markdown",
   "metadata": {},
   "source": [
    "# Stampa"
   ]
  },
  {
   "cell_type": "code",
   "execution_count": 16,
   "metadata": {
    "collapsed": true
   },
   "outputs": [],
   "source": [
    "def stampa(sol):\n",
    "    board = [[0] * DIMENSIONE for i in range(DIMENSIONE)] \n",
    "\n",
    "    for x in range(0,DIMENSIONE):\n",
    "        board[x][sol[x]]='Q'\n",
    "    print(\"SCHACCHIERA\")\n",
    "    for y in range(0,DIMENSIONE):\n",
    "        for x in range(0,DIMENSIONE):\n",
    "            if(board[x][y]=='Q'):\n",
    "                print(\"Q\"),\n",
    "            else:\n",
    "                print(\".\"),\n",
    "        print(\"\\n\")\n",
    "    print(\"\\n\\n\")\n"
   ]
  },
  {
   "cell_type": "markdown",
   "metadata": {},
   "source": [
    "# Simulated Annealing"
   ]
  },
  {
   "cell_type": "code",
   "execution_count": 17,
   "metadata": {
    "collapsed": false,
    "scrolled": false
   },
   "outputs": [
    {
     "name": "stdout",
     "output_type": "stream",
     "text": [
      "TEMPERATURA:  30\n",
      "best_energy= 0\n",
      "SCHACCHIERA\n",
      "Q . . . . . . . \n",
      "\n",
      ". . . . . . Q . \n",
      "\n",
      ". . . Q . . . . \n",
      "\n",
      ". . . . . Q . . \n",
      "\n",
      ". . . . . . . Q \n",
      "\n",
      ". Q . . . . . . \n",
      "\n",
      ". . . . Q . . . \n",
      "\n",
      ". . Q . . . . . \n",
      "\n",
      "\n",
      "\n",
      "\n"
     ]
    }
   ],
   "source": [
    "current = range(0,DIMENSIONE)\n",
    "working = range(0,DIMENSIONE)\n",
    "best = range (0,DIMENSIONE)\n",
    "\n",
    "current = inizializza(current)\n",
    "current_energy = energia(current)\n",
    "\n",
    "best_energy = DIMENSIONE*(DIMENSIONE-1)\n",
    "\n",
    "working = numpy.copy(current)\n",
    "working_energy = current_energy\n",
    "\n",
    "temperature = TEMPERATURA_INIZIALE\n",
    "\n",
    "while (temperature > TEMPERATURA_FINALE and best_energy!=0):\n",
    "    print(\"TEMPERATURA: \"),    \n",
    "    print(temperature)\n",
    "    for step in range(0,STEPS_PER_CHANGE):\n",
    "        useNew = False\n",
    "        working = tweak(working)\n",
    "        working_energy = energia(working)\n",
    "    \n",
    "        if (working_energy < current_energy):\n",
    "            useNew = True\n",
    "        else:\n",
    "            test = random.random()\n",
    "            delta = working_energy - current_energy\n",
    "            calc = math.exp(-delta/temperature)\n",
    "            if (calc > test):\n",
    "                useNew = True\n",
    "                \n",
    "        if (useNew):\n",
    "            current = numpy.copy(working)\n",
    "            current_energy = working_energy\n",
    "            \n",
    "            if (current_energy < best_energy):\n",
    "                best = numpy.copy(working)\n",
    "                best_energy = energia(best)\n",
    "            useNew = False\n",
    "        else:\n",
    "            working = numpy.copy(current)\n",
    "            working_energy = energia(working)\n",
    "            \n",
    "    print(\"best_energy=\"),\n",
    "    print(best_energy)            \n",
    "    temperature = temperature * ALFA\n",
    "\n",
    "stampa(best)"
   ]
  }
 ],
 "metadata": {
  "kernelspec": {
   "display_name": "Python 2",
   "language": "python",
   "name": "python2"
  },
  "language_info": {
   "codemirror_mode": {
    "name": "ipython",
    "version": 2
   },
   "file_extension": ".py",
   "mimetype": "text/x-python",
   "name": "python",
   "nbconvert_exporter": "python",
   "pygments_lexer": "ipython2",
   "version": "2.7.11"
  }
 },
 "nbformat": 4,
 "nbformat_minor": 0
}
